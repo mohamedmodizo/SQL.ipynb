{
 "cells": [
  {
   "cell_type": "code",
   "execution_count": 14,
   "metadata": {},
   "outputs": [
    {
     "name": "stdout",
     "output_type": "stream",
     "text": [
      "             Date/Time  Temp_C  Dew Point Temp_C  Rel Hum_%  Wind Speed_km/h  \\\n",
      "0        1/1/2012 0:00    -1.8              -3.9         86                4   \n",
      "1        1/1/2012 1:00    -1.8              -3.7         87                4   \n",
      "2        1/1/2012 2:00    -1.8              -3.4         89                7   \n",
      "3        1/1/2012 3:00    -1.5              -3.2         88                6   \n",
      "4        1/1/2012 4:00    -1.5              -3.3         88                7   \n",
      "...                ...     ...               ...        ...              ...   \n",
      "8779  12/31/2012 19:00     0.1              -2.7         81               30   \n",
      "8780  12/31/2012 20:00     0.2              -2.4         83               24   \n",
      "8781  12/31/2012 21:00    -0.5              -1.5         93               28   \n",
      "8782  12/31/2012 22:00    -0.2              -1.8         89               28   \n",
      "8783  12/31/2012 23:00     0.0              -2.1         86               30   \n",
      "\n",
      "      Visibility_km  Press_kPa               Weather  \n",
      "0               8.0     101.24                   Fog  \n",
      "1               8.0     101.24                   Fog  \n",
      "2               4.0     101.26  Freezing Drizzle,Fog  \n",
      "3               4.0     101.27  Freezing Drizzle,Fog  \n",
      "4               4.8     101.23                   Fog  \n",
      "...             ...        ...                   ...  \n",
      "8779            9.7     100.13                  Snow  \n",
      "8780            9.7     100.03                  Snow  \n",
      "8781            4.8      99.95                  Snow  \n",
      "8782            9.7      99.91                  Snow  \n",
      "8783           11.3      99.89                  Snow  \n",
      "\n",
      "[8784 rows x 8 columns]\n"
     ]
    }
   ],
   "source": [
    "import pandas as pd\n",
    "from sqlalchemy import create_engine\n",
    "\n",
    "df = pd.read_csv(r\"C:\\Users\\Admin\\OneDrive\\Desktop\\1. Weather Data.csv\")\n",
    "print (df)\n",
    "\n"
   ]
  },
  {
   "cell_type": "code",
   "execution_count": 9,
   "metadata": {},
   "outputs": [
    {
     "name": "stdout",
     "output_type": "stream",
     "text": [
      "Engine(sqlite:///weather_data.db)\n"
     ]
    }
   ],
   "source": [
    "#Create a SQLite Database and Table\n",
    "engine = create_engine('sqlite:///weather_data.db')\n",
    "print(engine)\n"
   ]
  },
  {
   "cell_type": "code",
   "execution_count": 10,
   "metadata": {},
   "outputs": [
    {
     "data": {
      "text/plain": [
       "8784"
      ]
     },
     "execution_count": 10,
     "metadata": {},
     "output_type": "execute_result"
    }
   ],
   "source": [
    "#Store DataFrame in SQLite\n",
    "df.to_sql('weather', con=engine, index=False, if_exists='replace')\n"
   ]
  },
  {
   "cell_type": "code",
   "execution_count": 12,
   "metadata": {},
   "outputs": [
    {
     "name": "stdout",
     "output_type": "stream",
     "text": [
      "             Date/Time  Temp_C  Dew Point Temp_C  Rel Hum_%  Wind Speed_km/h  \\\n",
      "0       1/3/2012 19:00   -16.9             -24.8         50               24   \n",
      "1       1/5/2012 18:00    -7.1             -14.4         56               11   \n",
      "2       1/5/2012 19:00    -9.2             -15.4         61                7   \n",
      "3       1/5/2012 20:00    -9.8             -15.7         62                9   \n",
      "4       1/5/2012 21:00    -9.0             -14.8         63               13   \n",
      "...                ...     ...               ...        ...              ...   \n",
      "1321   12/26/2012 6:00   -13.4             -14.8         89                4   \n",
      "1322  12/28/2012 10:00    -6.1              -8.6         82               19   \n",
      "1323   12/29/2012 1:00   -11.9             -13.6         87               11   \n",
      "1324   12/29/2012 2:00   -11.8             -13.1         90               13   \n",
      "1325  12/30/2012 20:00   -13.8             -16.5         80               24   \n",
      "\n",
      "      Visibility_km  Press_kPa Weather  \n",
      "0              25.0     101.74   Clear  \n",
      "1              25.0     100.71   Clear  \n",
      "2              25.0     100.80   Clear  \n",
      "3              25.0     100.83   Clear  \n",
      "4              25.0     100.83   Clear  \n",
      "...             ...        ...     ...  \n",
      "1321           25.0     102.47   Clear  \n",
      "1322           24.1     101.27   Clear  \n",
      "1323           25.0     101.31   Clear  \n",
      "1324           25.0     101.33   Clear  \n",
      "1325           25.0     101.52   Clear  \n",
      "\n",
      "[1326 rows x 8 columns]\n"
     ]
    }
   ],
   "source": [
    "#Querying the Database\n",
    "#Find all records where the weather was exactly clear:\n",
    "query = \"\"\"\n",
    "SELECT * FROM weather\n",
    "WHERE Weather = 'Clear'\n",
    "\"\"\"\n",
    "result = pd.read_sql_query(query, con=engine)\n",
    "print(result)\n"
   ]
  },
  {
   "cell_type": "code",
   "execution_count": 31,
   "metadata": {},
   "outputs": [
    {
     "name": "stdout",
     "output_type": "stream",
     "text": [
      "   count_wind_speed\n",
      "0               474\n"
     ]
    }
   ],
   "source": [
    "#Find the number of times the wind speed was exactly 4 km/hr:\n",
    "\n",
    "query = \"\"\"\n",
    "SELECT COUNT(*) AS count_wind_speed \n",
    "FROM weather \n",
    "WHERE `Wind Speed_km/h` = 4\n",
    "\"\"\"\n",
    "\n",
    "# Assuming 'engine' is your SQLAlchemy connection engine\n",
    "result = pd.read_sql_query(query, con=engine)\n",
    "print(result)\n",
    "\n"
   ]
  },
  {
   "cell_type": "code",
   "execution_count": 35,
   "metadata": {},
   "outputs": [
    {
     "name": "stdout",
     "output_type": "stream",
     "text": [
      "Empty DataFrame\n",
      "Columns: [Date/Time, Temp_C, Dew Point Temp_C, Rel Hum_%, Wind Speed_km/h, Visibility_km, Press_kPa, Weather]\n",
      "Index: []\n"
     ]
    }
   ],
   "source": [
    "#Check if there are any NULL values present in the dataset:\n",
    "query = \"\"\"\n",
    "SELECT * FROM weather\n",
    "WHERE Weather IS NULL OR 'Wind Speed_km/h' IS NULL OR Visibility_km IS NULL\n",
    "\"\"\"\n",
    "result = pd.read_sql_query(query, con=engine)\n",
    "print(result)\n"
   ]
  },
  {
   "cell_type": "code",
   "execution_count": 37,
   "metadata": {},
   "outputs": [
    {
     "name": "stdout",
     "output_type": "stream",
     "text": [
      "             Date/Time  Temp_C  Dew Point Temp_C  Rel Hum_%  Wind Speed_km/h  \\\n",
      "0        1/1/2012 0:00    -1.8              -3.9         86                4   \n",
      "1        1/1/2012 1:00    -1.8              -3.7         87                4   \n",
      "2        1/1/2012 2:00    -1.8              -3.4         89                7   \n",
      "3        1/1/2012 3:00    -1.5              -3.2         88                6   \n",
      "4        1/1/2012 4:00    -1.5              -3.3         88                7   \n",
      "...                ...     ...               ...        ...              ...   \n",
      "8779  12/31/2012 19:00     0.1              -2.7         81               30   \n",
      "8780  12/31/2012 20:00     0.2              -2.4         83               24   \n",
      "8781  12/31/2012 21:00    -0.5              -1.5         93               28   \n",
      "8782  12/31/2012 22:00    -0.2              -1.8         89               28   \n",
      "8783  12/31/2012 23:00     0.0              -2.1         86               30   \n",
      "\n",
      "      Visibility_km  Press_kPa     Weather Condition  \n",
      "0               8.0     101.24                   Fog  \n",
      "1               8.0     101.24                   Fog  \n",
      "2               4.0     101.26  Freezing Drizzle,Fog  \n",
      "3               4.0     101.27  Freezing Drizzle,Fog  \n",
      "4               4.8     101.23                   Fog  \n",
      "...             ...        ...                   ...  \n",
      "8779            9.7     100.13                  Snow  \n",
      "8780            9.7     100.03                  Snow  \n",
      "8781            4.8      99.95                  Snow  \n",
      "8782            9.7      99.91                  Snow  \n",
      "8783           11.3      99.89                  Snow  \n",
      "\n",
      "[8784 rows x 8 columns]\n"
     ]
    }
   ],
   "source": [
    "#Rename the column \"Weather\" to \"Weather Condition\":\n",
    "# First, rename the column in pandas\n",
    "df.rename(columns={'Weather': 'Weather Condition'}, inplace=True)\n",
    "\n",
    "# Then, update the database\n",
    "df.to_sql('weather', con=engine, index=False, if_exists='replace')\n",
    "print (df)\n"
   ]
  }
 ],
 "metadata": {
  "kernelspec": {
   "display_name": "venv",
   "language": "python",
   "name": "python3"
  },
  "language_info": {
   "codemirror_mode": {
    "name": "ipython",
    "version": 3
   },
   "file_extension": ".py",
   "mimetype": "text/x-python",
   "name": "python",
   "nbconvert_exporter": "python",
   "pygments_lexer": "ipython3",
   "version": "3.11.9"
  }
 },
 "nbformat": 4,
 "nbformat_minor": 2
}
